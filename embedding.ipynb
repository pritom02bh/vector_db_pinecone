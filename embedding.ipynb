{
 "cells": [
  {
   "cell_type": "code",
   "execution_count": 2,
   "metadata": {},
   "outputs": [
    {
     "name": "stderr",
     "output_type": "stream",
     "text": [
      "100%|██████████| 19/19 [00:00<00:00, 23.22it/s]\n"
     ]
    },
    {
     "name": "stdout",
     "output_type": "stream",
     "text": [
      "Upserted 19 remaining vectors to namespace 'inventory'\n"
     ]
    },
    {
     "name": "stderr",
     "output_type": "stream",
     "text": [
      " 11%|█         | 100/920 [00:13<03:46,  3.62it/s]"
     ]
    },
    {
     "name": "stdout",
     "output_type": "stream",
     "text": [
      "Upserted 100 vectors to namespace 'transport'\n"
     ]
    },
    {
     "name": "stderr",
     "output_type": "stream",
     "text": [
      " 22%|██▏       | 201/920 [00:31<03:57,  3.03it/s]"
     ]
    },
    {
     "name": "stdout",
     "output_type": "stream",
     "text": [
      "Upserted 100 vectors to namespace 'transport'\n"
     ]
    },
    {
     "name": "stderr",
     "output_type": "stream",
     "text": [
      " 33%|███▎      | 301/920 [00:45<02:43,  3.78it/s]"
     ]
    },
    {
     "name": "stdout",
     "output_type": "stream",
     "text": [
      "Upserted 100 vectors to namespace 'transport'\n"
     ]
    },
    {
     "name": "stderr",
     "output_type": "stream",
     "text": [
      " 43%|████▎     | 400/920 [01:04<02:57,  2.93it/s]"
     ]
    },
    {
     "name": "stdout",
     "output_type": "stream",
     "text": [
      "Upserted 100 vectors to namespace 'transport'\n"
     ]
    },
    {
     "name": "stderr",
     "output_type": "stream",
     "text": [
      " 54%|█████▍    | 500/920 [01:18<02:21,  2.97it/s]"
     ]
    },
    {
     "name": "stdout",
     "output_type": "stream",
     "text": [
      "Upserted 100 vectors to namespace 'transport'\n"
     ]
    },
    {
     "name": "stderr",
     "output_type": "stream",
     "text": [
      " 65%|██████▌   | 601/920 [01:33<01:17,  4.10it/s]"
     ]
    },
    {
     "name": "stdout",
     "output_type": "stream",
     "text": [
      "Upserted 100 vectors to namespace 'transport'\n"
     ]
    },
    {
     "name": "stderr",
     "output_type": "stream",
     "text": [
      " 76%|███████▌  | 701/920 [01:47<00:53,  4.12it/s]"
     ]
    },
    {
     "name": "stdout",
     "output_type": "stream",
     "text": [
      "Upserted 100 vectors to namespace 'transport'\n"
     ]
    },
    {
     "name": "stderr",
     "output_type": "stream",
     "text": [
      " 87%|████████▋ | 801/920 [02:02<00:30,  3.88it/s]"
     ]
    },
    {
     "name": "stdout",
     "output_type": "stream",
     "text": [
      "Upserted 100 vectors to namespace 'transport'\n"
     ]
    },
    {
     "name": "stderr",
     "output_type": "stream",
     "text": [
      " 98%|█████████▊| 901/920 [02:17<00:05,  3.30it/s]"
     ]
    },
    {
     "name": "stdout",
     "output_type": "stream",
     "text": [
      "Upserted 100 vectors to namespace 'transport'\n"
     ]
    },
    {
     "name": "stderr",
     "output_type": "stream",
     "text": [
      "100%|██████████| 920/920 [02:21<00:00,  6.52it/s]"
     ]
    },
    {
     "name": "stdout",
     "output_type": "stream",
     "text": [
      "Upserted 20 remaining vectors to namespace 'transport'\n",
      "Embeddings stored successfully!\n"
     ]
    },
    {
     "name": "stderr",
     "output_type": "stream",
     "text": [
      "\n"
     ]
    }
   ],
   "source": [
    "import os\n",
    "import pandas as pd\n",
    "import pinecone\n",
    "from pinecone import Pinecone, ServerlessSpec\n",
    "from sentence_transformers import SentenceTransformer\n",
    "from dotenv import load_dotenv\n",
    "from tqdm import tqdm\n",
    "\n",
    "# Load environment variables\n",
    "load_dotenv()\n",
    "api_key = os.getenv(\"PINECONE_API_KEY\")\n",
    "index_name = \"medical-supply-chain\"\n",
    "\n",
    "# Initialize Pinecone\n",
    "pc = Pinecone(api_key=os.environ.get(\"PINECONE_API_KEY\"))\n",
    "if index_name not in pc.list_indexes().names():\n",
    "    pc.create_index(\n",
    "        name=index_name,\n",
    "        dimension=384,  # 384 for MiniLM\n",
    "        metric=\"cosine\",\n",
    "        spec=ServerlessSpec(cloud='aws', region='us-east-1')\n",
    "    )\n",
    "index = pc.Index(index_name)\n",
    "\n",
    "# Load datasets\n",
    "inventory_df = pd.read_csv(\"datasets/inventory_data.csv\")\n",
    "transport_df = pd.read_csv(\"datasets/transport_history.csv\")\n",
    "\n",
    "# Load embedding model\n",
    "model = SentenceTransformer(\"all-MiniLM-L6-v2\")\n",
    "\n",
    "def generate_embeddings(data, namespace, batch_size=100):\n",
    "    \"\"\"Generate embeddings and store in Pinecone in smaller batches.\"\"\"\n",
    "    vectors = []\n",
    "    for _, row in tqdm(data.iterrows(), total=len(data)):\n",
    "        text = \" \".join(map(str, row.values))  # Combine all values into a single text string\n",
    "        embedding = model.encode(text).tolist()\n",
    "        metadata = {col: str(row[col]) for col in data.columns}  # Store all columns as metadata\n",
    "        vectors.append((row[\"ItemID\"] if \"ItemID\" in row else row[\"ShipmentID\"], embedding, metadata))\n",
    "        \n",
    "        # If batch size reached, upsert and clear vectors list\n",
    "        if len(vectors) >= batch_size:\n",
    "            index.upsert(vectors, namespace=namespace)\n",
    "            print(f\"Upserted {len(vectors)} vectors to namespace '{namespace}'\")\n",
    "            vectors = []\n",
    "\n",
    "    # Upsert any remaining vectors\n",
    "    if vectors:\n",
    "        index.upsert(vectors, namespace=namespace)\n",
    "        print(f\"Upserted {len(vectors)} remaining vectors to namespace '{namespace}'\")\n",
    "\n",
    "# Process inventory and transport data\n",
    "generate_embeddings(inventory_df, \"inventory\")\n",
    "generate_embeddings(transport_df, \"transport\")\n",
    "\n",
    "print(\"Embeddings stored successfully!\")\n"
   ]
  },
  {
   "cell_type": "code",
   "execution_count": null,
   "metadata": {},
   "outputs": [],
   "source": []
  }
 ],
 "metadata": {
  "kernelspec": {
   "display_name": ".venv",
   "language": "python",
   "name": "python3"
  },
  "language_info": {
   "codemirror_mode": {
    "name": "ipython",
    "version": 3
   },
   "file_extension": ".py",
   "mimetype": "text/x-python",
   "name": "python",
   "nbconvert_exporter": "python",
   "pygments_lexer": "ipython3",
   "version": "3.11.9"
  }
 },
 "nbformat": 4,
 "nbformat_minor": 2
}
