{
 "cells": [
  {
   "cell_type": "code",
   "execution_count": 2,
   "metadata": {},
   "outputs": [
    {
     "name": "stdout",
     "output_type": "stream",
     "text": [
      "Cleaned 920 temperature range values\n",
      "\n",
      "Example changes:\n",
      "PackagingType: Cold Chain Container\n",
      "  - Before: 2ï¿½ï¿½ï¿½ï¿\n",
      "  - After:  2C to 8C\n",
      "PackagingType: Pallet Box\n",
      "  - Before: 20ï¿½ï¿½ï¿½ï¿½\n",
      "  - After:  20C to 35C\n",
      "PackagingType: Cardboard Box\n",
      "  - Before: 20ï¿½ï¿½ï¿½ï¿½\n",
      "  - After:  15C to 25C\n",
      "PackagingType: Plastic Drum\n",
      "  - Before: 20ï¿½ï¿½ï¿½ï¿½\n",
      "  - After:  30C to 35C\n",
      "PackagingType: Cryo Box\n",
      "  - Before: -80ï¿½ï¿½ï¿½ï¿½ï\n",
      "  - After:  -25C to -15C\n",
      "\n",
      "Saved cleaned data to 'datasets/transport_history_cleaned.csv'\n"
     ]
    }
   ],
   "source": [
    "import pandas as pd\n",
    "\n",
    "# Load the transport history data\n",
    "try:\n",
    "    df = pd.read_csv(\"datasets/transport_history.csv\", encoding=\"ISO-8859-1\")\n",
    "except FileNotFoundError:\n",
    "    df = pd.read_csv(\"transport_history.csv\", encoding=\"ISO-8859-1\")\n",
    "\n",
    "# Create a copy to preserve original data\n",
    "df_cleaned = df.copy()\n",
    "\n",
    "# Define standard temperature ranges for each packaging type without degree sign\n",
    "packaging_temp_map = {\n",
    "    'Cold Chain Container': '2C to 8C',\n",
    "    'Cardboard Box': '15C to 25C',\n",
    "    'Cryo Box': '-25C to -15C',\n",
    "    'Cryogenic Container': '-150C to -196C',\n",
    "    'Deep Freeze Container': '-80C to -20C',\n",
    "    'Fiber Drum': '15C to 25C',\n",
    "    'Freezer Container': '-25C to -18C',\n",
    "    'Insulated Box': '20C to 35C',\n",
    "    'Pallet Box': '20C to 35C',\n",
    "    'Plastic Drum': '30C to 35C',\n",
    "    'Reefer Container': '-30C to 30C',\n",
    "    'Thermal Box': '2C to 8C'\n",
    "}\n",
    "\n",
    "# Apply the mapping to fix temperature ranges\n",
    "df_cleaned['TemperatureRange'] = df_cleaned.apply(\n",
    "    lambda row: packaging_temp_map.get(row['PackagingType'], row['TemperatureRange']), \n",
    "    axis=1\n",
    ")\n",
    "\n",
    "# Count changes made\n",
    "changes = (df['TemperatureRange'] != df_cleaned['TemperatureRange']).sum()\n",
    "print(f\"Cleaned {changes} temperature range values\")\n",
    "\n",
    "# Show some examples of changes\n",
    "if changes > 0:\n",
    "    print(\"\\nExample changes:\")\n",
    "    changed_rows = df[df['TemperatureRange'] != df_cleaned['TemperatureRange']].head(5)\n",
    "    for i, row in changed_rows.iterrows():\n",
    "        print(f\"PackagingType: {row['PackagingType']}\")\n",
    "        print(f\"  - Before: {row['TemperatureRange']}\")\n",
    "        print(f\"  - After:  {df_cleaned.loc[i, 'TemperatureRange']}\")\n",
    "\n",
    "# Save the cleaned data\n",
    "try:\n",
    "    output_file = \"datasets/transport_history_cleaned.csv\"\n",
    "    df_cleaned.to_csv(output_file, index=False)\n",
    "    print(f\"\\nSaved cleaned data to '{output_file}'\")\n",
    "except:\n",
    "    output_file = \"transport_history_cleaned.csv\"\n",
    "    df_cleaned.to_csv(output_file, index=False)\n",
    "    print(f\"\\nSaved cleaned data to '{output_file}'\")\n"
   ]
  },
  {
   "cell_type": "code",
   "execution_count": null,
   "metadata": {},
   "outputs": [],
   "source": []
  }
 ],
 "metadata": {
  "kernelspec": {
   "display_name": ".venv",
   "language": "python",
   "name": "python3"
  },
  "language_info": {
   "codemirror_mode": {
    "name": "ipython",
    "version": 3
   },
   "file_extension": ".py",
   "mimetype": "text/x-python",
   "name": "python",
   "nbconvert_exporter": "python",
   "pygments_lexer": "ipython3",
   "version": "3.11.9"
  }
 },
 "nbformat": 4,
 "nbformat_minor": 2
}
